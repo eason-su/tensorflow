{
 "cells": [
  {
   "cell_type": "code",
   "execution_count": 30,
   "metadata": {
    "collapsed": true,
    "pycharm": {
     "is_executing": false
    }
   },
   "outputs": [
    {
     "name": "stdout",
     "text": [
      "/job:localhost/replica:0/task:0/device:CPU:0\n/job:localhost/replica:0/task:0/device:CPU:0\n(1,)\ntf.Tensor(1, shape=(), dtype=int32)\n"
     ],
     "output_type": "stream"
    }
   ],
   "source": [
    "import tensorflow as tf\n",
    "tf.constant(1)  # 定义常量，普通的tensor\n",
    "tf.constant(1.)  # 定义常量，普通的tensor\n",
    "tf.constant([True, False])  # 定义常量，普通的tensor\n",
    "tf.constant('hello nick')\n",
    "\n",
    "\n",
    "with tf.device('cpu'):\n",
    "    a = tf.constant([1])\n",
    "with tf.device('gpu'):\n",
    "    b = tf.constant([1])\n",
    "  \n",
    "a.device # 设备属性\n",
    "a.gpu()  # cpu转gpu\n",
    "a.numpy()  # 获取numpy数据类型\n",
    "a.shape  # 获取a的属性\n",
    "a.ndim  # 获取维度\n",
    "tf.rank(a)  # 获取维度\n",
    "\n",
    "#a.name  # 1.+历史遗留问题\n",
    "\n",
    "\n",
    "print(a.device)\n",
    "print(b.device)\n",
    "\n",
    "print(a.shape )\n",
    "print(tf.rank(a))\n"
   ]
  },
  {
   "cell_type": "code",
   "execution_count": 31,
   "outputs": [
    {
     "name": "stdout",
     "text": [
      "[0 1 2 3 4]\ntf.Tensor([0 1 2 3 4], shape=(5,), dtype=int32)\ntf.Tensor([0 1], shape=(2,), dtype=int32)\n"
     ],
     "output_type": "stream"
    },
    {
     "data": {
      "text/plain": "True"
     },
     "metadata": {},
     "output_type": "execute_result",
     "execution_count": 31
    }
   ],
   "source": [
    "import tensorflow as tf\n",
    "import numpy as np \n",
    "a = np.arange(5)\n",
    "aa = tf.convert_to_tensor(a,dtype=tf.int32) # numpy转tensor\n",
    "print(a)\n",
    "print(aa)\n",
    "\n",
    "\n",
    "b = tf.constant([0,1])\n",
    "tf.cast(b,dtype=tf.bool) # int --》bool\n",
    "print(b)\n",
    "# tf.Variable\n",
    "a = tf.range(5)\n",
    "b = tf.Variable(a) # tensor转为Variable后具有求导的特性，即自动记录a的梯度相关信息\n",
    "b.name # Variable:0\n",
    "\n",
    "b = tf.Variable(a, name='input_data')\n",
    "b.name # input_data:0\n",
    "b.trainable # True\n",
    "\n",
    "isinstance(b,tf.Tensor)  # False\n",
    "isinstance(b,tf.Variable)  # True\n",
    "tf.is_tensor(b)  # True  # 推荐使用\n",
    "\n"
   ],
   "metadata": {
    "collapsed": false,
    "pycharm": {
     "name": "#%%\n",
     "is_executing": false
    }
   }
  },
  {
   "cell_type": "code",
   "execution_count": 33,
   "outputs": [
    {
     "data": {
      "text/plain": "<tf.Tensor: id=232, shape=(2, 2), dtype=float32, numpy=\narray([[ 0.39041165, -0.19881016],\n       [ 1.2726002 ,  1.2615964 ]], dtype=float32)>"
     },
     "metadata": {},
     "output_type": "execute_result",
     "execution_count": 33
    }
   ],
   "source": [
    "import numpy as np\n",
    "import tensorflow as tf\n",
    "\n",
    "tf.convert_to_tensor(np.ones([2, 3]))\n",
    "\n",
    "\n",
    "# tf.convert_to_tensor([1, 2])\n",
    "\n",
    "tf.convert_to_tensor([[1], [2.]])\n",
    "\n",
    "tf.random.normal([10, 10], mean=1, stddev=1)\n",
    "\n",
    "# 截断的正态分布，\n",
    "tf.random.truncated_normal([2, 2], mean=0, stddev=1)"
   ],
   "metadata": {
    "collapsed": false,
    "pycharm": {
     "name": "#%%\n",
     "is_executing": false
    }
   }
  }
 ],
 "metadata": {
  "kernelspec": {
   "display_name": "Python 3",
   "language": "python",
   "name": "python3"
  },
  "language_info": {
   "codemirror_mode": {
    "name": "ipython",
    "version": 2
   },
   "file_extension": ".py",
   "mimetype": "text/x-python",
   "name": "python",
   "nbconvert_exporter": "python",
   "pygments_lexer": "ipython2",
   "version": "2.7.6"
  },
  "pycharm": {
   "stem_cell": {
    "cell_type": "raw",
    "source": [],
    "metadata": {
     "collapsed": false
    }
   }
  }
 },
 "nbformat": 4,
 "nbformat_minor": 0
}