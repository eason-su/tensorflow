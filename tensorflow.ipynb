{
 "cells": [
  {
   "cell_type": "code",
   "execution_count": 1,
   "metadata": {
    "collapsed": true
   },
   "outputs": [
    {
     "name": "stdout",
     "output_type": "stream",
     "text": [
      "WARNING:tensorflow:From <ipython-input-1-8c0b2bfb6618>:14: _EagerTensorBase.gpu (from tensorflow.python.framework.ops) is deprecated and will be removed in a future version.\n",
      "Instructions for updating:\n",
      "Use tf.identity instead.\n"
     ]
    },
    {
     "ename": "RuntimeError",
     "evalue": "GPU:0 unknown device.",
     "output_type": "error",
     "traceback": [
      "\u001B[1;31m---------------------------------------------------------------------------\u001B[0m",
      "\u001B[1;31mRuntimeError\u001B[0m                              Traceback (most recent call last)",
      "\u001B[1;32m<ipython-input-1-8c0b2bfb6618>\u001B[0m in \u001B[0;36m<module>\u001B[1;34m\u001B[0m\n\u001B[0;32m     12\u001B[0m \u001B[1;33m\u001B[0m\u001B[0m\n\u001B[0;32m     13\u001B[0m \u001B[0ma\u001B[0m\u001B[1;33m.\u001B[0m\u001B[0mdevice\u001B[0m \u001B[1;31m# 设备属性\u001B[0m\u001B[1;33m\u001B[0m\u001B[1;33m\u001B[0m\u001B[0m\n\u001B[1;32m---> 14\u001B[1;33m \u001B[0ma\u001B[0m\u001B[1;33m.\u001B[0m\u001B[0mgpu\u001B[0m\u001B[1;33m(\u001B[0m\u001B[1;33m)\u001B[0m  \u001B[1;31m# cpu转gpu\u001B[0m\u001B[1;33m\u001B[0m\u001B[1;33m\u001B[0m\u001B[0m\n\u001B[0m\u001B[0;32m     15\u001B[0m \u001B[0ma\u001B[0m\u001B[1;33m.\u001B[0m\u001B[0mnumpy\u001B[0m\u001B[1;33m(\u001B[0m\u001B[1;33m)\u001B[0m  \u001B[1;31m# 获取numpy数据类型\u001B[0m\u001B[1;33m\u001B[0m\u001B[1;33m\u001B[0m\u001B[0m\n\u001B[0;32m     16\u001B[0m \u001B[0ma\u001B[0m\u001B[1;33m.\u001B[0m\u001B[0mshape\u001B[0m  \u001B[1;31m# 获取a的属性\u001B[0m\u001B[1;33m\u001B[0m\u001B[1;33m\u001B[0m\u001B[0m\n",
      "\u001B[1;32mD:\\Program Files\\anaconda3\\envs\\tensorflow2\\lib\\site-packages\\tensorflow_core\\python\\util\\deprecation.py\u001B[0m in \u001B[0;36mnew_func\u001B[1;34m(*args, **kwargs)\u001B[0m\n\u001B[0;32m    322\u001B[0m               \u001B[1;34m'in a future version'\u001B[0m \u001B[1;32mif\u001B[0m \u001B[0mdate\u001B[0m \u001B[1;32mis\u001B[0m \u001B[1;32mNone\u001B[0m \u001B[1;32melse\u001B[0m \u001B[1;33m(\u001B[0m\u001B[1;34m'after %s'\u001B[0m \u001B[1;33m%\u001B[0m \u001B[0mdate\u001B[0m\u001B[1;33m)\u001B[0m\u001B[1;33m,\u001B[0m\u001B[1;33m\u001B[0m\u001B[1;33m\u001B[0m\u001B[0m\n\u001B[0;32m    323\u001B[0m               instructions)\n\u001B[1;32m--> 324\u001B[1;33m       \u001B[1;32mreturn\u001B[0m \u001B[0mfunc\u001B[0m\u001B[1;33m(\u001B[0m\u001B[1;33m*\u001B[0m\u001B[0margs\u001B[0m\u001B[1;33m,\u001B[0m \u001B[1;33m**\u001B[0m\u001B[0mkwargs\u001B[0m\u001B[1;33m)\u001B[0m\u001B[1;33m\u001B[0m\u001B[1;33m\u001B[0m\u001B[0m\n\u001B[0m\u001B[0;32m    325\u001B[0m     return tf_decorator.make_decorator(\n\u001B[0;32m    326\u001B[0m         \u001B[0mfunc\u001B[0m\u001B[1;33m,\u001B[0m \u001B[0mnew_func\u001B[0m\u001B[1;33m,\u001B[0m \u001B[1;34m'deprecated'\u001B[0m\u001B[1;33m,\u001B[0m\u001B[1;33m\u001B[0m\u001B[1;33m\u001B[0m\u001B[0m\n",
      "\u001B[1;32mD:\\Program Files\\anaconda3\\envs\\tensorflow2\\lib\\site-packages\\tensorflow_core\\python\\framework\\ops.py\u001B[0m in \u001B[0;36mgpu\u001B[1;34m(self, gpu_index)\u001B[0m\n\u001B[0;32m   1066\u001B[0m       \u001B[1;32mas\u001B[0m \u001B[0mthis\u001B[0m \u001B[0mTensor\u001B[0m\u001B[1;33m.\u001B[0m\u001B[1;33m\u001B[0m\u001B[1;33m\u001B[0m\u001B[0m\n\u001B[0;32m   1067\u001B[0m     \"\"\"\n\u001B[1;32m-> 1068\u001B[1;33m     \u001B[1;32mreturn\u001B[0m \u001B[0mself\u001B[0m\u001B[1;33m.\u001B[0m\u001B[0m_copy\u001B[0m\u001B[1;33m(\u001B[0m\u001B[0mcontext\u001B[0m\u001B[1;33m.\u001B[0m\u001B[0mcontext\u001B[0m\u001B[1;33m(\u001B[0m\u001B[1;33m)\u001B[0m\u001B[1;33m,\u001B[0m \u001B[1;34m\"GPU:\"\u001B[0m \u001B[1;33m+\u001B[0m \u001B[0mstr\u001B[0m\u001B[1;33m(\u001B[0m\u001B[0mgpu_index\u001B[0m\u001B[1;33m)\u001B[0m\u001B[1;33m)\u001B[0m\u001B[1;33m\u001B[0m\u001B[1;33m\u001B[0m\u001B[0m\n\u001B[0m\u001B[0;32m   1069\u001B[0m \u001B[1;33m\u001B[0m\u001B[0m\n\u001B[0;32m   1070\u001B[0m   \u001B[1;32mdef\u001B[0m \u001B[0mset_shape\u001B[0m\u001B[1;33m(\u001B[0m\u001B[0mself\u001B[0m\u001B[1;33m,\u001B[0m \u001B[0mshape\u001B[0m\u001B[1;33m)\u001B[0m\u001B[1;33m:\u001B[0m\u001B[1;33m\u001B[0m\u001B[1;33m\u001B[0m\u001B[0m\n",
      "\u001B[1;32mD:\\Program Files\\anaconda3\\envs\\tensorflow2\\lib\\site-packages\\tensorflow_core\\python\\framework\\ops.py\u001B[0m in \u001B[0;36m_copy\u001B[1;34m(self, ctx, device_name)\u001B[0m\n\u001B[0;32m   1013\u001B[0m   \u001B[1;32mdef\u001B[0m \u001B[0m_copy\u001B[0m\u001B[1;33m(\u001B[0m\u001B[0mself\u001B[0m\u001B[1;33m,\u001B[0m \u001B[0mctx\u001B[0m\u001B[1;33m=\u001B[0m\u001B[1;32mNone\u001B[0m\u001B[1;33m,\u001B[0m \u001B[0mdevice_name\u001B[0m\u001B[1;33m=\u001B[0m\u001B[1;32mNone\u001B[0m\u001B[1;33m)\u001B[0m\u001B[1;33m:\u001B[0m\u001B[1;33m\u001B[0m\u001B[1;33m\u001B[0m\u001B[0m\n\u001B[0;32m   1014\u001B[0m     \u001B[1;34m\"\"\"Copies tensor to dest device.\"\"\"\u001B[0m\u001B[1;33m\u001B[0m\u001B[1;33m\u001B[0m\u001B[0m\n\u001B[1;32m-> 1015\u001B[1;33m     \u001B[0mnew_tensor\u001B[0m \u001B[1;33m=\u001B[0m \u001B[0mself\u001B[0m\u001B[1;33m.\u001B[0m\u001B[0m_copy_nograd\u001B[0m\u001B[1;33m(\u001B[0m\u001B[0mctx\u001B[0m\u001B[1;33m,\u001B[0m \u001B[0mdevice_name\u001B[0m\u001B[1;33m)\u001B[0m\u001B[1;33m\u001B[0m\u001B[1;33m\u001B[0m\u001B[0m\n\u001B[0m\u001B[0;32m   1016\u001B[0m     \u001B[1;31m# Record the copy on tape and define backprop copy as well.\u001B[0m\u001B[1;33m\u001B[0m\u001B[1;33m\u001B[0m\u001B[1;33m\u001B[0m\u001B[0m\n\u001B[0;32m   1017\u001B[0m     \u001B[1;32mif\u001B[0m \u001B[0mcontext\u001B[0m\u001B[1;33m.\u001B[0m\u001B[0mexecuting_eagerly\u001B[0m\u001B[1;33m(\u001B[0m\u001B[1;33m)\u001B[0m\u001B[1;33m:\u001B[0m\u001B[1;33m\u001B[0m\u001B[1;33m\u001B[0m\u001B[0m\n",
      "\u001B[1;32mD:\\Program Files\\anaconda3\\envs\\tensorflow2\\lib\\site-packages\\tensorflow_core\\python\\framework\\ops.py\u001B[0m in \u001B[0;36m_copy_nograd\u001B[1;34m(self, ctx, device_name)\u001B[0m\n\u001B[0;32m   1006\u001B[0m     \u001B[1;32mtry\u001B[0m\u001B[1;33m:\u001B[0m\u001B[1;33m\u001B[0m\u001B[1;33m\u001B[0m\u001B[0m\n\u001B[0;32m   1007\u001B[0m       \u001B[0mctx\u001B[0m\u001B[1;33m.\u001B[0m\u001B[0mensure_initialized\u001B[0m\u001B[1;33m(\u001B[0m\u001B[1;33m)\u001B[0m\u001B[1;33m\u001B[0m\u001B[1;33m\u001B[0m\u001B[0m\n\u001B[1;32m-> 1008\u001B[1;33m       \u001B[0mnew_tensor\u001B[0m \u001B[1;33m=\u001B[0m \u001B[0mself\u001B[0m\u001B[1;33m.\u001B[0m\u001B[0m_copy_to_device\u001B[0m\u001B[1;33m(\u001B[0m\u001B[0mdevice_name\u001B[0m\u001B[1;33m)\u001B[0m\u001B[1;33m\u001B[0m\u001B[1;33m\u001B[0m\u001B[0m\n\u001B[0m\u001B[0;32m   1009\u001B[0m     \u001B[1;32mexcept\u001B[0m \u001B[0mcore\u001B[0m\u001B[1;33m.\u001B[0m\u001B[0m_NotOkStatusException\u001B[0m \u001B[1;32mas\u001B[0m \u001B[0me\u001B[0m\u001B[1;33m:\u001B[0m\u001B[1;33m\u001B[0m\u001B[1;33m\u001B[0m\u001B[0m\n\u001B[0;32m   1010\u001B[0m       \u001B[0msix\u001B[0m\u001B[1;33m.\u001B[0m\u001B[0mraise_from\u001B[0m\u001B[1;33m(\u001B[0m\u001B[0mcore\u001B[0m\u001B[1;33m.\u001B[0m\u001B[0m_status_to_exception\u001B[0m\u001B[1;33m(\u001B[0m\u001B[0me\u001B[0m\u001B[1;33m.\u001B[0m\u001B[0mcode\u001B[0m\u001B[1;33m,\u001B[0m \u001B[0me\u001B[0m\u001B[1;33m.\u001B[0m\u001B[0mmessage\u001B[0m\u001B[1;33m)\u001B[0m\u001B[1;33m,\u001B[0m \u001B[1;32mNone\u001B[0m\u001B[1;33m)\u001B[0m\u001B[1;33m\u001B[0m\u001B[1;33m\u001B[0m\u001B[0m\n",
      "\u001B[1;31mRuntimeError\u001B[0m: GPU:0 unknown device."
     ]
    }
   ],
   "source": [
    "import tensorflow as tf\n",
    "tf.constant(1)  # 定义常量，普通的tensor\n",
    "tf.constant(1.)  # 定义常量，普通的tensor\n",
    "tf.constant([True, False])  # 定义常量，普通的tensor\n",
    "tf.constant('hello nick')\n",
    "\n",
    "\n",
    "with tf.device('cpu'):\n",
    "    a = tf.constant([1])\n",
    "with tf.device('gpu'):\n",
    "    b = tf.constant([1])\n",
    "  \n",
    "a.device # 设备属性\n",
    "a.gpu()  # cpu转gpu\n",
    "a.numpy()  # 获取numpy数据类型\n",
    "a.shape  # 获取a的属性\n",
    "a.ndim  # 获取维度\n",
    "tf.rank(a)  # 获取维度\n",
    "\n",
    "#a.name  # 1.+历史遗留问题\n",
    "\n",
    "\n",
    "print(a.device)\n",
    "print(b.device)\n",
    "\n",
    "print(a.shape )\n",
    "print(tf.rank(a))\n"
   ]
  },
  {
   "cell_type": "code",
   "execution_count": 31,
   "outputs": [
    {
     "name": "stdout",
     "text": [
      "[0 1 2 3 4]\ntf.Tensor([0 1 2 3 4], shape=(5,), dtype=int32)\ntf.Tensor([0 1], shape=(2,), dtype=int32)\n"
     ],
     "output_type": "stream"
    },
    {
     "data": {
      "text/plain": "True"
     },
     "metadata": {},
     "output_type": "execute_result",
     "execution_count": 31
    }
   ],
   "source": [
    "import tensorflow as tf\n",
    "import numpy as np \n",
    "a = np.arange(5)\n",
    "aa = tf.convert_to_tensor(a,dtype=tf.int32) # numpy转tensor\n",
    "print(a)\n",
    "print(aa)\n",
    "\n",
    "\n",
    "b = tf.constant([0,1])\n",
    "tf.cast(b,dtype=tf.bool) # int --》bool\n",
    "print(b)\n",
    "# tf.Variable\n",
    "a = tf.range(5)\n",
    "b = tf.Variable(a) # tensor转为Variable后具有求导的特性，即自动记录a的梯度相关信息\n",
    "b.name # Variable:0\n",
    "\n",
    "b = tf.Variable(a, name='input_data')\n",
    "b.name # input_data:0\n",
    "b.trainable # True\n",
    "\n",
    "isinstance(b,tf.Tensor)  # False\n",
    "isinstance(b,tf.Variable)  # True\n",
    "tf.is_tensor(b)  # True  # 推荐使用\n",
    "\n"
   ],
   "metadata": {
    "collapsed": false,
    "pycharm": {
     "name": "#%%\n",
     "is_executing": false
    }
   }
  },
  {
   "cell_type": "code",
   "execution_count": 33,
   "outputs": [
    {
     "data": {
      "text/plain": "<tf.Tensor: id=232, shape=(2, 2), dtype=float32, numpy=\narray([[ 0.39041165, -0.19881016],\n       [ 1.2726002 ,  1.2615964 ]], dtype=float32)>"
     },
     "metadata": {},
     "output_type": "execute_result",
     "execution_count": 33
    }
   ],
   "source": [
    "import numpy as np\n",
    "import tensorflow as tf\n",
    "\n",
    "tf.convert_to_tensor(np.ones([2, 3]))\n",
    "\n",
    "\n",
    "# tf.convert_to_tensor([1, 2])\n",
    "\n",
    "tf.convert_to_tensor([[1], [2.]])\n",
    "\n",
    "tf.random.normal([10, 10], mean=1, stddev=1)\n",
    "\n",
    "# 截断的正态分布，\n",
    "tf.random.truncated_normal([2, 2], mean=0, stddev=1)"
   ],
   "metadata": {
    "collapsed": false,
    "pycharm": {
     "name": "#%%\n",
     "is_executing": false
    }
   }
  }
 ],
 "metadata": {
  "kernelspec": {
   "display_name": "Python 3",
   "language": "python",
   "name": "python3"
  },
  "language_info": {
   "codemirror_mode": {
    "name": "ipython",
    "version": 2
   },
   "file_extension": ".py",
   "mimetype": "text/x-python",
   "name": "python",
   "nbconvert_exporter": "python",
   "pygments_lexer": "ipython2",
   "version": "2.7.6"
  },
  "pycharm": {
   "stem_cell": {
    "cell_type": "raw",
    "source": [],
    "metadata": {
     "collapsed": false
    }
   }
  }
 },
 "nbformat": 4,
 "nbformat_minor": 0
}